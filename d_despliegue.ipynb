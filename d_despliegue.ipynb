{
 "cells": [
  {
   "cell_type": "code",
   "execution_count": null,
   "id": "d1041b5c",
   "metadata": {},
   "outputs": [],
   "source": [
    "from google.colab import drive\n",
    "import sys\n",
    "import os\n",
    "\n",
    "drive.mount('/content/drive')\n",
    "\n",
    "# Personalized path to your project directory\n",
    "path = '/content/drive/MyDrive/cod/LEA3_helath' # Replace with your actual path\n",
    "\n",
    "# Add the path to sys.path\n",
    "sys.path.append(path)\n",
    "os.chdir(path)\n",
    "\n",
    "os.curdir"
   ]
  },
  {
   "cell_type": "code",
   "execution_count": null,
   "id": "57b19bb1",
   "metadata": {},
   "outputs": [],
   "source": [
    "import numpy as np\n",
    "import pandas as pd\n",
    "import cv2 ### para leer imagenes jpeg\n",
    "### pip install opencv-python\n",
    "import _funciones as fn#### funciones personalizadas, carga de imágenes\n",
    "import tensorflow as tf\n",
    "import openpyxl\n",
    "\n",
    "import sys\n",
    "sys.executable\n",
    "sys.path\n",
    "\n",
    "if __name__==\"__main__\":\n",
    "\n",
    "    #### cargar datos ####\n",
    "    path = 'data/despliegue/'\n",
    "    x, _, files= fn.img2data(path) #cargar datos de despliegue\n",
    "\n",
    "    x=np.array(x) ##imagenes a predecir\n",
    "\n",
    "    x=x.astype('float')######convertir para escalar\n",
    "    x/=255######escalar datos\n",
    "\n",
    "\n",
    "    files2= [name.rsplit('.', 1)[0] for name in files] ### eliminar extension a nombre de archivo\n",
    "\n",
    "    modelo=tf.keras.models.load_model('salidas/best_cnn_optuna.keras') ### cargar modelo\n",
    "    prob=modelo.predict(x)\n",
    "\n",
    "\n",
    "   clas=['Neu' if prob >0.95 else 'No pneu' if prob < 0.45 else \"No ident\" for prob in prob]\n",
    "\n",
    "    res_dict={\n",
    "        \"paciente\": files2,\n",
    "        \"clas\": clas\n",
    "    }\n",
    "    resultados=pd.DataFrame(res_dict)\n",
    "\n",
    "    resultados.to_excel('salidas/clasificados.xlsx', index=False)\n"
   ]
  }
 ],
 "metadata": {
  "language_info": {
   "name": "python"
  }
 },
 "nbformat": 4,
 "nbformat_minor": 5
}
